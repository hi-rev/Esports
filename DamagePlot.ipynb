{
 "cells": [
  {
   "cell_type": "code",
   "execution_count": 1,
   "id": "464bf7ba",
   "metadata": {},
   "outputs": [],
   "source": [
    "import pandas as pd\n",
    "import numpy as np\n",
    "import requests\n",
    "import matplotlib.pyplot as plt"
   ]
  },
  {
   "cell_type": "code",
   "execution_count": 2,
   "id": "c50166b2",
   "metadata": {},
   "outputs": [],
   "source": [
    "# Riot Developer Portal에서 받은 API KEY입니다.\n",
    "# 해당 값을 포함한 모든 종류의 KEY는 코드에 직접적으로 노출되지 않도록 하는 것이 좋습니다.\n",
    "api_key = 'RGAPI-########-####-####-####-############'\n",
    "\n",
    "# 본인 소환사명입니다.\n",
    "summoner_name = '봄꽃동화룰루'"
   ]
  },
  {
   "cell_type": "code",
   "execution_count": 3,
   "id": "b6856332",
   "metadata": {},
   "outputs": [],
   "source": [
    "# SUMMONER-V4 API URL\n",
    "# 소환사 정보를 requesturl 한 것이다.\n",
    "requesturl = 'https://kr.api.riotgames.com/lol/summoner/v4/summoners/by-name/'+summoner_name+\\\n",
    "'?api_key='+api_key"
   ]
  },
  {
   "cell_type": "code",
   "execution_count": 4,
   "id": "fd3be0ae",
   "metadata": {},
   "outputs": [
    {
     "data": {
      "text/plain": [
       "{'id': 'htLlECoLbCvxl9uVQfIqccrmD4bgFQPAnWXP5pZmYzcpRWs',\n",
       " 'accountId': 'aYzeSc6KUErs4maCmpttcZ_Ce0APASzmmyK38sfTmnv_lXc',\n",
       " 'puuid': 'EN_7hhinhk74FnL-yv8lL05A83_G1GFbmsjqfI4dadOBiBLOWk4qeb99ZQYM1gtGn1QvwiUwnl1niw',\n",
       " 'name': '봄꽃동화룰루',\n",
       " 'profileIconId': 3790,\n",
       " 'revisionDate': 1634283701000,\n",
       " 'summonerLevel': 261}"
      ]
     },
     "execution_count": 4,
     "metadata": {},
     "output_type": "execute_result"
    }
   ],
   "source": [
    "r = requests.get(requesturl)\n",
    "r.json()"
   ]
  },
  {
   "cell_type": "code",
   "execution_count": 5,
   "id": "36048101",
   "metadata": {},
   "outputs": [],
   "source": [
    "# 본인 puuid입니다.\n",
    "# puuid가 데이터베이스에 저장되는 자기자신의 닉네임이다.\n",
    "summoner_puuid = r.json()['puuid']"
   ]
  },
  {
   "cell_type": "code",
   "execution_count": 6,
   "id": "4f684c95",
   "metadata": {},
   "outputs": [],
   "source": [
    "# MATCH-V5 API URL\n",
    "requesturl = 'https://asia.api.riotgames.com/lol/match/v5/matches/by-puuid/'+summoner_puuid+\\\n",
    "'/ids?start=0&count=30&api_key='+api_key"
   ]
  },
  {
   "cell_type": "code",
   "execution_count": 7,
   "id": "1affd322",
   "metadata": {},
   "outputs": [],
   "source": [
    "r = requests.get(requesturl)\n",
    "matchId = r.json()[0]"
   ]
  },
  {
   "cell_type": "code",
   "execution_count": 8,
   "id": "2ffec70e",
   "metadata": {},
   "outputs": [],
   "source": [
    "# MATCH-V5 API URL\n",
    "requesturl = 'https://asia.api.riotgames.com/lol/match/v5/matches/'+matchId\\\n",
    "+'?api_key='+api_key"
   ]
  },
  {
   "cell_type": "code",
   "execution_count": 9,
   "id": "d5cb5325",
   "metadata": {},
   "outputs": [],
   "source": [
    "# 가장 최근 게임(matchId) requests해서 불러옴\n",
    "r = requests.get(requesturl)"
   ]
  },
  {
   "cell_type": "code",
   "execution_count": 10,
   "id": "4a18abff",
   "metadata": {},
   "outputs": [],
   "source": [
    "# 게임 데이터 확인\n",
    "# r.json()"
   ]
  },
  {
   "cell_type": "code",
   "execution_count": 11,
   "id": "564d9a90",
   "metadata": {},
   "outputs": [],
   "source": [
    "# 모든 column print하게 설정 변경\n",
    "pd.set_option('display.max_columns',None)"
   ]
  },
  {
   "cell_type": "code",
   "execution_count": 12,
   "id": "b9103775",
   "metadata": {},
   "outputs": [],
   "source": [
    "# DataFrame으로 변환\n",
    "df = pd.DataFrame(r.json()['info']['participants'])"
   ]
  },
  {
   "cell_type": "code",
   "execution_count": 13,
   "id": "83783daf",
   "metadata": {},
   "outputs": [],
   "source": [
    "# 확인할 변수\n",
    "COLUMNS = ['totalDamageDealtToChampions','totalDamageTaken']"
   ]
  },
  {
   "cell_type": "code",
   "execution_count": 14,
   "id": "ec65c542",
   "metadata": {},
   "outputs": [],
   "source": [
    "df2 = df[COLUMNS]"
   ]
  },
  {
   "cell_type": "code",
   "execution_count": 15,
   "id": "f6b1829d",
   "metadata": {},
   "outputs": [],
   "source": [
    "df2.columns = ['DamageDealt', 'DamageTaken']"
   ]
  },
  {
   "cell_type": "code",
   "execution_count": 16,
   "id": "6d5ea1a9",
   "metadata": {},
   "outputs": [
    {
     "data": {
      "text/html": [
       "<div>\n",
       "<style scoped>\n",
       "    .dataframe tbody tr th:only-of-type {\n",
       "        vertical-align: middle;\n",
       "    }\n",
       "\n",
       "    .dataframe tbody tr th {\n",
       "        vertical-align: top;\n",
       "    }\n",
       "\n",
       "    .dataframe thead th {\n",
       "        text-align: right;\n",
       "    }\n",
       "</style>\n",
       "<table border=\"1\" class=\"dataframe\">\n",
       "  <thead>\n",
       "    <tr style=\"text-align: right;\">\n",
       "      <th></th>\n",
       "      <th>DamageDealt</th>\n",
       "      <th>DamageTaken</th>\n",
       "    </tr>\n",
       "  </thead>\n",
       "  <tbody>\n",
       "    <tr>\n",
       "      <th>0</th>\n",
       "      <td>6412</td>\n",
       "      <td>19011</td>\n",
       "    </tr>\n",
       "    <tr>\n",
       "      <th>1</th>\n",
       "      <td>9590</td>\n",
       "      <td>14033</td>\n",
       "    </tr>\n",
       "    <tr>\n",
       "      <th>2</th>\n",
       "      <td>6798</td>\n",
       "      <td>12957</td>\n",
       "    </tr>\n",
       "    <tr>\n",
       "      <th>3</th>\n",
       "      <td>3548</td>\n",
       "      <td>9520</td>\n",
       "    </tr>\n",
       "    <tr>\n",
       "      <th>4</th>\n",
       "      <td>4911</td>\n",
       "      <td>11146</td>\n",
       "    </tr>\n",
       "    <tr>\n",
       "      <th>5</th>\n",
       "      <td>16205</td>\n",
       "      <td>11369</td>\n",
       "    </tr>\n",
       "    <tr>\n",
       "      <th>6</th>\n",
       "      <td>5799</td>\n",
       "      <td>15098</td>\n",
       "    </tr>\n",
       "    <tr>\n",
       "      <th>7</th>\n",
       "      <td>16521</td>\n",
       "      <td>6232</td>\n",
       "    </tr>\n",
       "    <tr>\n",
       "      <th>8</th>\n",
       "      <td>7626</td>\n",
       "      <td>10114</td>\n",
       "    </tr>\n",
       "    <tr>\n",
       "      <th>9</th>\n",
       "      <td>5449</td>\n",
       "      <td>9162</td>\n",
       "    </tr>\n",
       "  </tbody>\n",
       "</table>\n",
       "</div>"
      ],
      "text/plain": [
       "   DamageDealt  DamageTaken\n",
       "0         6412        19011\n",
       "1         9590        14033\n",
       "2         6798        12957\n",
       "3         3548         9520\n",
       "4         4911        11146\n",
       "5        16205        11369\n",
       "6         5799        15098\n",
       "7        16521         6232\n",
       "8         7626        10114\n",
       "9         5449         9162"
      ]
     },
     "execution_count": 16,
     "metadata": {},
     "output_type": "execute_result"
    }
   ],
   "source": [
    "df2"
   ]
  },
  {
   "cell_type": "code",
   "execution_count": 17,
   "id": "50f82862",
   "metadata": {},
   "outputs": [],
   "source": [
    "c1 = r.json()['info']['participants'][0]['championName']\n",
    "c2 = r.json()['info']['participants'][1]['championName']\n",
    "c3 = r.json()['info']['participants'][2]['championName']\n",
    "c4 = r.json()['info']['participants'][3]['championName']\n",
    "c5 = r.json()['info']['participants'][4]['championName']\n",
    "c6 = r.json()['info']['participants'][5]['championName']\n",
    "c7 = r.json()['info']['participants'][6]['championName']\n",
    "c8 = r.json()['info']['participants'][7]['championName']\n",
    "c9 = r.json()['info']['participants'][8]['championName']\n",
    "c10 = r.json()['info']['participants'][9]['championName']"
   ]
  },
  {
   "cell_type": "code",
   "execution_count": 18,
   "id": "f76944f2",
   "metadata": {},
   "outputs": [],
   "source": [
    "df2.index = [c1, c2, c3, c4, c5, c6, c7, c8, c9, c10]"
   ]
  },
  {
   "cell_type": "code",
   "execution_count": 19,
   "id": "8414a4be",
   "metadata": {},
   "outputs": [
    {
     "data": {
      "text/html": [
       "<div>\n",
       "<style scoped>\n",
       "    .dataframe tbody tr th:only-of-type {\n",
       "        vertical-align: middle;\n",
       "    }\n",
       "\n",
       "    .dataframe tbody tr th {\n",
       "        vertical-align: top;\n",
       "    }\n",
       "\n",
       "    .dataframe thead th {\n",
       "        text-align: right;\n",
       "    }\n",
       "</style>\n",
       "<table border=\"1\" class=\"dataframe\">\n",
       "  <thead>\n",
       "    <tr style=\"text-align: right;\">\n",
       "      <th></th>\n",
       "      <th>DamageDealt</th>\n",
       "      <th>DamageTaken</th>\n",
       "    </tr>\n",
       "  </thead>\n",
       "  <tbody>\n",
       "    <tr>\n",
       "      <th>Aatrox</th>\n",
       "      <td>6412</td>\n",
       "      <td>19011</td>\n",
       "    </tr>\n",
       "    <tr>\n",
       "      <th>Graves</th>\n",
       "      <td>9590</td>\n",
       "      <td>14033</td>\n",
       "    </tr>\n",
       "    <tr>\n",
       "      <th>TwistedFate</th>\n",
       "      <td>6798</td>\n",
       "      <td>12957</td>\n",
       "    </tr>\n",
       "    <tr>\n",
       "      <th>Jinx</th>\n",
       "      <td>3548</td>\n",
       "      <td>9520</td>\n",
       "    </tr>\n",
       "    <tr>\n",
       "      <th>Ekko</th>\n",
       "      <td>4911</td>\n",
       "      <td>11146</td>\n",
       "    </tr>\n",
       "    <tr>\n",
       "      <th>Malphite</th>\n",
       "      <td>16205</td>\n",
       "      <td>11369</td>\n",
       "    </tr>\n",
       "    <tr>\n",
       "      <th>Shaco</th>\n",
       "      <td>5799</td>\n",
       "      <td>15098</td>\n",
       "    </tr>\n",
       "    <tr>\n",
       "      <th>Xerath</th>\n",
       "      <td>16521</td>\n",
       "      <td>6232</td>\n",
       "    </tr>\n",
       "    <tr>\n",
       "      <th>Ashe</th>\n",
       "      <td>7626</td>\n",
       "      <td>10114</td>\n",
       "    </tr>\n",
       "    <tr>\n",
       "      <th>Lulu</th>\n",
       "      <td>5449</td>\n",
       "      <td>9162</td>\n",
       "    </tr>\n",
       "  </tbody>\n",
       "</table>\n",
       "</div>"
      ],
      "text/plain": [
       "             DamageDealt  DamageTaken\n",
       "Aatrox              6412        19011\n",
       "Graves              9590        14033\n",
       "TwistedFate         6798        12957\n",
       "Jinx                3548         9520\n",
       "Ekko                4911        11146\n",
       "Malphite           16205        11369\n",
       "Shaco               5799        15098\n",
       "Xerath             16521         6232\n",
       "Ashe                7626        10114\n",
       "Lulu                5449         9162"
      ]
     },
     "execution_count": 19,
     "metadata": {},
     "output_type": "execute_result"
    }
   ],
   "source": [
    "df2"
   ]
  },
  {
   "cell_type": "code",
   "execution_count": 20,
   "id": "d7c84bdc",
   "metadata": {},
   "outputs": [
    {
     "data": {
      "text/plain": [
       "<AxesSubplot:>"
      ]
     },
     "execution_count": 20,
     "metadata": {},
     "output_type": "execute_result"
    },
    {
     "data": {
      "image/png": "[encoded data removed]",
      "text/plain": [
       "<Figure size 432x288 with 1 Axes>"
      ]
     },
     "metadata": {
      "needs_background": "light"
     },
     "output_type": "display_data"
    }
   ],
   "source": [
    "ax = plt.subplots()\n",
    "df2.plot(kind='barh', ax=ax[1])"
   ]
  }
 ],
 "metadata": {
  "kernelspec": {
   "display_name": "Python 3",
   "language": "python",
   "name": "python3"
  },
  "language_info": {
   "codemirror_mode": {
    "name": "ipython",
    "version": 3
   },
   "file_extension": ".py",
   "mimetype": "text/x-python",
   "name": "python",
   "nbconvert_exporter": "python",
   "pygments_lexer": "ipython3",
   "version": "3.8.8"
  }
 },
 "nbformat": 4,
 "nbformat_minor": 5
}
