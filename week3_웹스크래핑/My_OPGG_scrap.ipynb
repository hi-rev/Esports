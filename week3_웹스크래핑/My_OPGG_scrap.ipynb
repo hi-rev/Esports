{
 "cells": [
  {
   "cell_type": "code",
   "execution_count": 1,
   "id": "99c41f3e",
   "metadata": {},
   "outputs": [],
   "source": [
    "import requests\n",
    "import time\n",
    "import pandas as pd\n",
    "import numpy as np\n",
    "from bs4 import BeautifulSoup\n",
    "from selenium import webdriver"
   ]
  },
  {
   "cell_type": "code",
   "execution_count": 2,
   "id": "ff8df5c2",
   "metadata": {},
   "outputs": [],
   "source": [
    "# selenium을 백그라운드로 실행하기 위해 옵션 설정\n",
    "options = webdriver.ChromeOptions()\n",
    "options.add_argument('headless')\n",
    "options.add_argument('window-size=1920x1080')"
   ]
  },
  {
   "cell_type": "code",
   "execution_count": 3,
   "id": "0ed6aeb7",
   "metadata": {
    "scrolled": true
   },
   "outputs": [
    {
     "name": "stderr",
     "output_type": "stream",
     "text": [
      "<ipython-input-3-7f8705710227>:6: DeprecationWarning: executable_path has been deprecated, please pass in a Service object\n",
      "  driver = webdriver.Chrome(\"C:/chromedriver_win32/chromedriver.exe\", options= options)\n"
     ]
    }
   ],
   "source": [
    "# 우리가 데이터를 가져올 웹 페이지입니다.\n",
    "my_url = 'https://www.op.gg/summoner/userName=%EB%B4%84%EA%BD%83%EB%8F%99%ED%99%94%EB%A3%B0%EB%A3%A8'\n",
    "\n",
    "# selenium이 제어할 chrome을 실행합니다.\n",
    "# driver = webdriver.Chrome(\"/Users/namshin/chromedriver\")\n",
    "driver = webdriver.Chrome(\"C:/chromedriver_win32/chromedriver.exe\", options= options)"
   ]
  },
  {
   "cell_type": "code",
   "execution_count": 4,
   "id": "d003e032",
   "metadata": {},
   "outputs": [],
   "source": [
    "# 데이터를 가져올 페이지로 이동합니다.\n",
    "driver.get(my_url)"
   ]
  },
  {
   "cell_type": "code",
   "execution_count": 5,
   "id": "53d056f1",
   "metadata": {},
   "outputs": [
    {
     "name": "stderr",
     "output_type": "stream",
     "text": [
      "<ipython-input-5-523ee828ac39>:4: DeprecationWarning: find_element_by_* commands are deprecated. Please use find_element() instead\n",
      "  driver.find_element_by_css_selector('.GameMoreButton').click()\n"
     ]
    }
   ],
   "source": [
    "# '더 보기' 버튼이 활성화되어있으면(리스트의 끝까지 도달하지 않았으면) 계속 클릭하여 이전 게임을 모두 로딩합니다.\n",
    "while True:\n",
    "    try:\n",
    "        driver.find_element_by_css_selector('.GameMoreButton').click()\n",
    "        # 게임 로딩, html 코드 변경까지 여유 시간을 1초 가집니다.\n",
    "        time.sleep(1)\n",
    "        \n",
    "    # 에러가 나면(페이지에서 '더 보기' 버튼이 없을 경우) while문을 탈출합니다.\n",
    "    except Exception as e:\n",
    "        pass\n",
    "        break"
   ]
  },
  {
   "cell_type": "code",
   "execution_count": 6,
   "id": "e160cc88",
   "metadata": {},
   "outputs": [],
   "source": [
    "# 게임이 모두 로딩된 페이지의 html 코드를 faker_total_html로 저장합니다.\n",
    "my_total_html = driver.page_source\n",
    "\n",
    "# selenium이 제어하는 크롬을 종료합니다.\n",
    "driver.quit()"
   ]
  },
  {
   "cell_type": "code",
   "execution_count": 8,
   "id": "4790542e",
   "metadata": {},
   "outputs": [],
   "source": [
    "# html 형식에 맞춰 파싱(parsing; 추후 이용하기 쉽도록 쪼개기)합니다.\n",
    "my_total_soup = BeautifulSoup(my_total_html, 'html.parser')"
   ]
  },
  {
   "cell_type": "code",
   "execution_count": null,
   "id": "080c21ec",
   "metadata": {},
   "outputs": [],
   "source": []
  },
  {
   "cell_type": "code",
   "execution_count": 9,
   "id": "38bae6df",
   "metadata": {},
   "outputs": [],
   "source": [
    "# 결과가 들어갈 빈 리스트를 만듭니다.\n",
    "my_champions = []\n",
    "my_results = []\n",
    "my_killstate = []"
   ]
  },
  {
   "cell_type": "code",
   "execution_count": 10,
   "id": "9a3c1ecb",
   "metadata": {
    "scrolled": true
   },
   "outputs": [
    {
     "name": "stdout",
     "output_type": "stream",
     "text": [
      "343\n"
     ]
    }
   ],
   "source": [
    "# 전체 html 코드 중 우리가 원하는 selector를 만족하는 것만 가져오기\n",
    "my_total_games_html = my_total_soup.select('div.GameItemList div.GameItemWrap')\n",
    "\n",
    "# 그렇게 가져온 html 코드의 element 개수 == 끝까지 로딩된 모든 게임 수 출력\n",
    "total_game_len = len(my_total_games_html)\n",
    "print(total_game_len)"
   ]
  },
  {
   "cell_type": "code",
   "execution_count": 11,
   "id": "6d7c3099",
   "metadata": {},
   "outputs": [],
   "source": [
    "# 각 게임에 대해 웹 페이지에 기재된 스탯을 찾아서(selector 사용) 결과 리스트에 append하기\n",
    "for i in range(total_game_len):    \n",
    "    my_champions.append(list(my_total_games_html[i].select_one('div.ChampionName').\n",
    "                                               stripped_strings)[0])\n",
    "    my_results.append(list(my_total_games_html[i].select_one('div.GameStats div.GameResult').\n",
    "                                               stripped_strings)[0])\n",
    "    my_killstate.append(list(my_total_games_html[i].select_one('div.Stats div.CKRate.tip').\n",
    "                                               stripped_strings)[0])"
   ]
  },
  {
   "cell_type": "code",
   "execution_count": 12,
   "id": "de6cdb18",
   "metadata": {},
   "outputs": [
    {
     "data": {
      "text/html": [
       "<div>\n",
       "<style scoped>\n",
       "    .dataframe tbody tr th:only-of-type {\n",
       "        vertical-align: middle;\n",
       "    }\n",
       "\n",
       "    .dataframe tbody tr th {\n",
       "        vertical-align: top;\n",
       "    }\n",
       "\n",
       "    .dataframe thead th {\n",
       "        text-align: right;\n",
       "    }\n",
       "</style>\n",
       "<table border=\"1\" class=\"dataframe\">\n",
       "  <thead>\n",
       "    <tr style=\"text-align: right;\">\n",
       "      <th></th>\n",
       "      <th>champion</th>\n",
       "      <th>result</th>\n",
       "      <th>killpercent</th>\n",
       "    </tr>\n",
       "  </thead>\n",
       "  <tbody>\n",
       "    <tr>\n",
       "      <th>0</th>\n",
       "      <td>룰루</td>\n",
       "      <td>승리</td>\n",
       "      <td>킬관여 45%</td>\n",
       "    </tr>\n",
       "    <tr>\n",
       "      <th>1</th>\n",
       "      <td>미스 포츈</td>\n",
       "      <td>패배</td>\n",
       "      <td>킬관여 53%</td>\n",
       "    </tr>\n",
       "    <tr>\n",
       "      <th>2</th>\n",
       "      <td>코그모</td>\n",
       "      <td>패배</td>\n",
       "      <td>킬관여 46%</td>\n",
       "    </tr>\n",
       "    <tr>\n",
       "      <th>3</th>\n",
       "      <td>베인</td>\n",
       "      <td>패배</td>\n",
       "      <td>킬관여 50%</td>\n",
       "    </tr>\n",
       "    <tr>\n",
       "      <th>4</th>\n",
       "      <td>진</td>\n",
       "      <td>패배</td>\n",
       "      <td>킬관여 56%</td>\n",
       "    </tr>\n",
       "    <tr>\n",
       "      <th>5</th>\n",
       "      <td>바루스</td>\n",
       "      <td>승리</td>\n",
       "      <td>킬관여 25%</td>\n",
       "    </tr>\n",
       "    <tr>\n",
       "      <th>6</th>\n",
       "      <td>이즈리얼</td>\n",
       "      <td>패배</td>\n",
       "      <td>킬관여 28%</td>\n",
       "    </tr>\n",
       "    <tr>\n",
       "      <th>7</th>\n",
       "      <td>진</td>\n",
       "      <td>패배</td>\n",
       "      <td>킬관여 55%</td>\n",
       "    </tr>\n",
       "    <tr>\n",
       "      <th>8</th>\n",
       "      <td>룰루</td>\n",
       "      <td>승리</td>\n",
       "      <td>킬관여 24%</td>\n",
       "    </tr>\n",
       "    <tr>\n",
       "      <th>9</th>\n",
       "      <td>진</td>\n",
       "      <td>승리</td>\n",
       "      <td>킬관여 68%</td>\n",
       "    </tr>\n",
       "  </tbody>\n",
       "</table>\n",
       "</div>"
      ],
      "text/plain": [
       "  champion result killpercent\n",
       "0       룰루     승리     킬관여 45%\n",
       "1    미스 포츈     패배     킬관여 53%\n",
       "2      코그모     패배     킬관여 46%\n",
       "3       베인     패배     킬관여 50%\n",
       "4        진     패배     킬관여 56%\n",
       "5      바루스     승리     킬관여 25%\n",
       "6     이즈리얼     패배     킬관여 28%\n",
       "7        진     패배     킬관여 55%\n",
       "8       룰루     승리     킬관여 24%\n",
       "9        진     승리     킬관여 68%"
      ]
     },
     "execution_count": 12,
     "metadata": {},
     "output_type": "execute_result"
    }
   ],
   "source": [
    "# DataFrame으로 변환 후 출력\n",
    "total_df = pd.DataFrame([my_champions,\n",
    "                                my_results,\n",
    "                                my_killstate],\n",
    "                               index = ['champion', 'result', 'killpercent']).T\n",
    "total_df.head(10)"
   ]
  },
  {
   "cell_type": "code",
   "execution_count": 18,
   "id": "342c2354",
   "metadata": {},
   "outputs": [
    {
     "data": {
      "text/html": [
       "<div>\n",
       "<style scoped>\n",
       "    .dataframe tbody tr th:only-of-type {\n",
       "        vertical-align: middle;\n",
       "    }\n",
       "\n",
       "    .dataframe tbody tr th {\n",
       "        vertical-align: top;\n",
       "    }\n",
       "\n",
       "    .dataframe thead th {\n",
       "        text-align: right;\n",
       "    }\n",
       "</style>\n",
       "<table border=\"1\" class=\"dataframe\">\n",
       "  <thead>\n",
       "    <tr style=\"text-align: right;\">\n",
       "      <th></th>\n",
       "      <th>result</th>\n",
       "      <th>killpercent</th>\n",
       "    </tr>\n",
       "    <tr>\n",
       "      <th>champion</th>\n",
       "      <th></th>\n",
       "      <th></th>\n",
       "    </tr>\n",
       "  </thead>\n",
       "  <tbody>\n",
       "    <tr>\n",
       "      <th>룰루</th>\n",
       "      <td>승리</td>\n",
       "      <td>킬관여 45%</td>\n",
       "    </tr>\n",
       "    <tr>\n",
       "      <th>미스 포츈</th>\n",
       "      <td>패배</td>\n",
       "      <td>킬관여 53%</td>\n",
       "    </tr>\n",
       "    <tr>\n",
       "      <th>코그모</th>\n",
       "      <td>패배</td>\n",
       "      <td>킬관여 46%</td>\n",
       "    </tr>\n",
       "    <tr>\n",
       "      <th>베인</th>\n",
       "      <td>패배</td>\n",
       "      <td>킬관여 50%</td>\n",
       "    </tr>\n",
       "    <tr>\n",
       "      <th>진</th>\n",
       "      <td>패배</td>\n",
       "      <td>킬관여 56%</td>\n",
       "    </tr>\n",
       "    <tr>\n",
       "      <th>바루스</th>\n",
       "      <td>승리</td>\n",
       "      <td>킬관여 25%</td>\n",
       "    </tr>\n",
       "    <tr>\n",
       "      <th>이즈리얼</th>\n",
       "      <td>패배</td>\n",
       "      <td>킬관여 28%</td>\n",
       "    </tr>\n",
       "    <tr>\n",
       "      <th>진</th>\n",
       "      <td>패배</td>\n",
       "      <td>킬관여 55%</td>\n",
       "    </tr>\n",
       "    <tr>\n",
       "      <th>룰루</th>\n",
       "      <td>승리</td>\n",
       "      <td>킬관여 24%</td>\n",
       "    </tr>\n",
       "    <tr>\n",
       "      <th>진</th>\n",
       "      <td>승리</td>\n",
       "      <td>킬관여 68%</td>\n",
       "    </tr>\n",
       "  </tbody>\n",
       "</table>\n",
       "</div>"
      ],
      "text/plain": [
       "         result killpercent\n",
       "champion                   \n",
       "룰루           승리     킬관여 45%\n",
       "미스 포츈        패배     킬관여 53%\n",
       "코그모          패배     킬관여 46%\n",
       "베인           패배     킬관여 50%\n",
       "진            패배     킬관여 56%\n",
       "바루스          승리     킬관여 25%\n",
       "이즈리얼         패배     킬관여 28%\n",
       "진            패배     킬관여 55%\n",
       "룰루           승리     킬관여 24%\n",
       "진            승리     킬관여 68%"
      ]
     },
     "execution_count": 18,
     "metadata": {},
     "output_type": "execute_result"
    }
   ],
   "source": [
    "df2 = total_df.set_index(\"champion\")\n",
    "df2.head(10)"
   ]
  },
  {
   "cell_type": "code",
   "execution_count": 19,
   "id": "865421cc",
   "metadata": {},
   "outputs": [],
   "source": [
    "most_champions = []\n",
    "most_games = []"
   ]
  },
  {
   "cell_type": "code",
   "execution_count": 20,
   "id": "777b9c00",
   "metadata": {},
   "outputs": [
    {
     "name": "stdout",
     "output_type": "stream",
     "text": [
      "7\n"
     ]
    }
   ],
   "source": [
    "# 전체 html 코드 중 우리가 원하는 selector를 만족하는 것만 가져오기\n",
    "my_total_games_html = my_total_soup.select('div.MostChampionContent div.ChampionBox.Ranked')\n",
    "\n",
    "# 그렇게 가져온 html 코드의 element 개수 == 끝까지 로딩된 모든 게임 수 출력\n",
    "total_game_len = len(my_total_games_html)\n",
    "print(total_game_len)"
   ]
  },
  {
   "cell_type": "code",
   "execution_count": 21,
   "id": "7057d8ae",
   "metadata": {},
   "outputs": [],
   "source": [
    "for i in range(total_game_len):    \n",
    "    most_champions.append(list(my_total_games_html[i].select_one('div.ChampionInfo div.ChampionName').\n",
    "                                               stripped_strings)[0])\n",
    "    most_games.append(list(my_total_games_html[i].select_one('div.Played div.Title').\n",
    "                                              stripped_strings)[0])"
   ]
  },
  {
   "cell_type": "code",
   "execution_count": 22,
   "id": "e4706ced",
   "metadata": {},
   "outputs": [
    {
     "data": {
      "text/html": [
       "<div>\n",
       "<style scoped>\n",
       "    .dataframe tbody tr th:only-of-type {\n",
       "        vertical-align: middle;\n",
       "    }\n",
       "\n",
       "    .dataframe tbody tr th {\n",
       "        vertical-align: top;\n",
       "    }\n",
       "\n",
       "    .dataframe thead th {\n",
       "        text-align: right;\n",
       "    }\n",
       "</style>\n",
       "<table border=\"1\" class=\"dataframe\">\n",
       "  <thead>\n",
       "    <tr style=\"text-align: right;\">\n",
       "      <th></th>\n",
       "      <th>champion</th>\n",
       "      <th>games</th>\n",
       "    </tr>\n",
       "  </thead>\n",
       "  <tbody>\n",
       "    <tr>\n",
       "      <th>0</th>\n",
       "      <td>진</td>\n",
       "      <td>128 게임</td>\n",
       "    </tr>\n",
       "    <tr>\n",
       "      <th>1</th>\n",
       "      <td>룰루</td>\n",
       "      <td>55 게임</td>\n",
       "    </tr>\n",
       "    <tr>\n",
       "      <th>2</th>\n",
       "      <td>이즈리얼</td>\n",
       "      <td>54 게임</td>\n",
       "    </tr>\n",
       "    <tr>\n",
       "      <th>3</th>\n",
       "      <td>직스</td>\n",
       "      <td>34 게임</td>\n",
       "    </tr>\n",
       "    <tr>\n",
       "      <th>4</th>\n",
       "      <td>애쉬</td>\n",
       "      <td>28 게임</td>\n",
       "    </tr>\n",
       "    <tr>\n",
       "      <th>5</th>\n",
       "      <td>세나</td>\n",
       "      <td>28 게임</td>\n",
       "    </tr>\n",
       "    <tr>\n",
       "      <th>6</th>\n",
       "      <td>바루스</td>\n",
       "      <td>25 게임</td>\n",
       "    </tr>\n",
       "  </tbody>\n",
       "</table>\n",
       "</div>"
      ],
      "text/plain": [
       "  champion   games\n",
       "0        진  128 게임\n",
       "1       룰루   55 게임\n",
       "2     이즈리얼   54 게임\n",
       "3       직스   34 게임\n",
       "4       애쉬   28 게임\n",
       "5       세나   28 게임\n",
       "6      바루스   25 게임"
      ]
     },
     "execution_count": 22,
     "metadata": {},
     "output_type": "execute_result"
    }
   ],
   "source": [
    "total_df = pd.DataFrame([most_champions,\n",
    "                                most_games],\n",
    "                               index = ['champion', 'games']).T\n",
    "total_df"
   ]
  },
  {
   "cell_type": "code",
   "execution_count": 25,
   "id": "bf9f2c11",
   "metadata": {},
   "outputs": [
    {
     "data": {
      "text/html": [
       "<div>\n",
       "<style scoped>\n",
       "    .dataframe tbody tr th:only-of-type {\n",
       "        vertical-align: middle;\n",
       "    }\n",
       "\n",
       "    .dataframe tbody tr th {\n",
       "        vertical-align: top;\n",
       "    }\n",
       "\n",
       "    .dataframe thead th {\n",
       "        text-align: right;\n",
       "    }\n",
       "</style>\n",
       "<table border=\"1\" class=\"dataframe\">\n",
       "  <thead>\n",
       "    <tr style=\"text-align: right;\">\n",
       "      <th></th>\n",
       "      <th>games</th>\n",
       "    </tr>\n",
       "    <tr>\n",
       "      <th>champion</th>\n",
       "      <th></th>\n",
       "    </tr>\n",
       "  </thead>\n",
       "  <tbody>\n",
       "    <tr>\n",
       "      <th>진</th>\n",
       "      <td>128 게임</td>\n",
       "    </tr>\n",
       "    <tr>\n",
       "      <th>룰루</th>\n",
       "      <td>55 게임</td>\n",
       "    </tr>\n",
       "    <tr>\n",
       "      <th>이즈리얼</th>\n",
       "      <td>54 게임</td>\n",
       "    </tr>\n",
       "    <tr>\n",
       "      <th>직스</th>\n",
       "      <td>34 게임</td>\n",
       "    </tr>\n",
       "    <tr>\n",
       "      <th>애쉬</th>\n",
       "      <td>28 게임</td>\n",
       "    </tr>\n",
       "    <tr>\n",
       "      <th>세나</th>\n",
       "      <td>28 게임</td>\n",
       "    </tr>\n",
       "    <tr>\n",
       "      <th>바루스</th>\n",
       "      <td>25 게임</td>\n",
       "    </tr>\n",
       "  </tbody>\n",
       "</table>\n",
       "</div>"
      ],
      "text/plain": [
       "           games\n",
       "champion        \n",
       "진         128 게임\n",
       "룰루         55 게임\n",
       "이즈리얼       54 게임\n",
       "직스         34 게임\n",
       "애쉬         28 게임\n",
       "세나         28 게임\n",
       "바루스        25 게임"
      ]
     },
     "execution_count": 25,
     "metadata": {},
     "output_type": "execute_result"
    }
   ],
   "source": [
    "df2 = total_df.set_index(\"champion\")\n",
    "df2"
   ]
  }
 ],
 "metadata": {
  "kernelspec": {
   "display_name": "Python 3",
   "language": "python",
   "name": "python3"
  },
  "language_info": {
   "codemirror_mode": {
    "name": "ipython",
    "version": 3
   },
   "file_extension": ".py",
   "mimetype": "text/x-python",
   "name": "python",
   "nbconvert_exporter": "python",
   "pygments_lexer": "ipython3",
   "version": "3.8.8"
  },
  "varInspector": {
   "cols": {
    "lenName": 16,
    "lenType": 16,
    "lenVar": 40
   },
   "kernels_config": {
    "python": {
     "delete_cmd_postfix": "",
     "delete_cmd_prefix": "del ",
     "library": "var_list.py",
     "varRefreshCmd": "print(var_dic_list())"
    },
    "r": {
     "delete_cmd_postfix": ") ",
     "delete_cmd_prefix": "rm(",
     "library": "var_list.r",
     "varRefreshCmd": "cat(var_dic_list()) "
    }
   },
   "types_to_exclude": [
    "module",
    "function",
    "builtin_function_or_method",
    "instance",
    "_Feature"
   ],
   "window_display": false
  }
 },
 "nbformat": 4,
 "nbformat_minor": 5
}
