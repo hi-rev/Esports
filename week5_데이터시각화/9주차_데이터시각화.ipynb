{
 "cells": [
  {
   "cell_type": "code",
   "execution_count": 2,
   "id": "8d7d7b68",
   "metadata": {},
   "outputs": [],
   "source": [
    "import pandas as pd\n",
    "import numpy as np\n",
    "import matplotlib.pyplot as plt\n",
    "import seaborn as sns"
   ]
  },
  {
   "cell_type": "code",
   "execution_count": 4,
   "id": "1c749ff2",
   "metadata": {},
   "outputs": [
    {
     "data": {
      "image/png": "[encoded data removed]",
      "text/plain": [
       "<Figure size 432x288 with 1 Axes>"
      ]
     },
     "metadata": {
      "needs_background": "light"
     },
     "output_type": "display_data"
    }
   ],
   "source": [
    "plt.plot([1, 2, 3, 5, 8])\n",
    "plt.ylabel('numbers')\n",
    "plt.xlabel('index')\n",
    "\n",
    "plt.show()"
   ]
  },
  {
   "cell_type": "code",
   "execution_count": 5,
   "id": "fd4b7cea",
   "metadata": {
    "scrolled": true
   },
   "outputs": [
    {
     "data": {
      "text/plain": [
       "Text(0.5, 0.98, 'Categorical Plotting')"
      ]
     },
     "execution_count": 5,
     "metadata": {},
     "output_type": "execute_result"
    },
    {
     "data": {
      "image/png": "[encoded data removed]",
      "text/plain": [
       "<Figure size 864x288 with 3 Axes>"
      ]
     },
     "metadata": {
      "needs_background": "light"
     },
     "output_type": "display_data"
    }
   ],
   "source": [
    "alphabet = ['a', 'b', 'c']\n",
    "values = [1, 50, 100]\n",
    "\n",
    "plt.figure(figsize=(12, 4))\n",
    "\n",
    "plt.subplot(131)\n",
    "plt.bar(alphabet, values)\n",
    "plt.subplot(1,3,2)\n",
    "plt.scatter(alphabet, values)\n",
    "plt.subplot(133)\n",
    "plt.plot(alphabet, values)\n",
    "plt.suptitle('Categorical Plotting')"
   ]
  },
  {
   "cell_type": "code",
   "execution_count": 6,
   "id": "352ced22",
   "metadata": {},
   "outputs": [],
   "source": [
    "data = pd.read_csv(\"BIPA_data.csv\", index_col = 0)"
   ]
  },
  {
   "cell_type": "code",
   "execution_count": 7,
   "id": "f5a9ec85",
   "metadata": {},
   "outputs": [],
   "source": [
    "data1_10 = data[data['championId'].isin(range(0,10))]\n",
    "group1_10 = data1_10.groupby(\"championId\", as_index = False).mean()"
   ]
  },
  {
   "cell_type": "code",
   "execution_count": 11,
   "id": "944b6a8f",
   "metadata": {},
   "outputs": [
    {
     "data": {
      "text/html": [
       "<div>\n",
       "<style scoped>\n",
       "    .dataframe tbody tr th:only-of-type {\n",
       "        vertical-align: middle;\n",
       "    }\n",
       "\n",
       "    .dataframe tbody tr th {\n",
       "        vertical-align: top;\n",
       "    }\n",
       "\n",
       "    .dataframe thead th {\n",
       "        text-align: right;\n",
       "    }\n",
       "</style>\n",
       "<table border=\"1\" class=\"dataframe\">\n",
       "  <thead>\n",
       "    <tr style=\"text-align: right;\">\n",
       "      <th></th>\n",
       "      <th>gameId</th>\n",
       "      <th>createDate</th>\n",
       "      <th>tierRank</th>\n",
       "      <th>position</th>\n",
       "      <th>teamId</th>\n",
       "      <th>summonerId</th>\n",
       "      <th>championId</th>\n",
       "      <th>result</th>\n",
       "      <th>level</th>\n",
       "      <th>championsKilled</th>\n",
       "      <th>...</th>\n",
       "      <th>totalDamageTaken</th>\n",
       "      <th>neutralMinionsKilledEnemyJungle</th>\n",
       "      <th>neutralMinionsKilledTeamJungle</th>\n",
       "      <th>visionScore</th>\n",
       "      <th>damageSelfMitigated</th>\n",
       "      <th>damageDealtToObjectives</th>\n",
       "      <th>damageDealtToTurrets</th>\n",
       "      <th>lane</th>\n",
       "      <th>gameLength</th>\n",
       "      <th>version</th>\n",
       "    </tr>\n",
       "  </thead>\n",
       "  <tbody>\n",
       "    <tr>\n",
       "      <th>14</th>\n",
       "      <td>5383880007</td>\n",
       "      <td>2021-08-11 07:02:38</td>\n",
       "      <td>S352</td>\n",
       "      <td>M</td>\n",
       "      <td>200</td>\n",
       "      <td>33220626</td>\n",
       "      <td>7</td>\n",
       "      <td>LOSE</td>\n",
       "      <td>9</td>\n",
       "      <td>1</td>\n",
       "      <td>...</td>\n",
       "      <td>17659</td>\n",
       "      <td>0</td>\n",
       "      <td>2</td>\n",
       "      <td>9</td>\n",
       "      <td>5042</td>\n",
       "      <td>0</td>\n",
       "      <td>0</td>\n",
       "      <td>MIDDLE</td>\n",
       "      <td>1202</td>\n",
       "      <td>11.16.390.1945</td>\n",
       "    </tr>\n",
       "    <tr>\n",
       "      <th>36</th>\n",
       "      <td>5383880023</td>\n",
       "      <td>2021-08-11 07:13:08</td>\n",
       "      <td>G230</td>\n",
       "      <td>T</td>\n",
       "      <td>200</td>\n",
       "      <td>50160666</td>\n",
       "      <td>8</td>\n",
       "      <td>LOSE</td>\n",
       "      <td>14</td>\n",
       "      <td>2</td>\n",
       "      <td>...</td>\n",
       "      <td>21044</td>\n",
       "      <td>0</td>\n",
       "      <td>0</td>\n",
       "      <td>13</td>\n",
       "      <td>7630</td>\n",
       "      <td>101</td>\n",
       "      <td>101</td>\n",
       "      <td>TOP</td>\n",
       "      <td>1611</td>\n",
       "      <td>11.16.390.1945</td>\n",
       "    </tr>\n",
       "    <tr>\n",
       "      <th>68</th>\n",
       "      <td>5383880039</td>\n",
       "      <td>2021-08-11 07:25:11</td>\n",
       "      <td>D416</td>\n",
       "      <td>M</td>\n",
       "      <td>200</td>\n",
       "      <td>82943928</td>\n",
       "      <td>7</td>\n",
       "      <td>WIN</td>\n",
       "      <td>16</td>\n",
       "      <td>12</td>\n",
       "      <td>...</td>\n",
       "      <td>21044</td>\n",
       "      <td>0</td>\n",
       "      <td>8</td>\n",
       "      <td>26</td>\n",
       "      <td>15833</td>\n",
       "      <td>7736</td>\n",
       "      <td>1249</td>\n",
       "      <td>MIDDLE</td>\n",
       "      <td>2156</td>\n",
       "      <td>11.16.390.1945</td>\n",
       "    </tr>\n",
       "    <tr>\n",
       "      <th>71</th>\n",
       "      <td>5383880040</td>\n",
       "      <td>2021-08-11 07:14:33</td>\n",
       "      <td>B471</td>\n",
       "      <td>J</td>\n",
       "      <td>100</td>\n",
       "      <td>3385419</td>\n",
       "      <td>6</td>\n",
       "      <td>LOSE</td>\n",
       "      <td>13</td>\n",
       "      <td>2</td>\n",
       "      <td>...</td>\n",
       "      <td>18807</td>\n",
       "      <td>4</td>\n",
       "      <td>74</td>\n",
       "      <td>28</td>\n",
       "      <td>17689</td>\n",
       "      <td>7497</td>\n",
       "      <td>0</td>\n",
       "      <td>JUNGLE</td>\n",
       "      <td>1535</td>\n",
       "      <td>11.16.390.1945</td>\n",
       "    </tr>\n",
       "    <tr>\n",
       "      <th>93</th>\n",
       "      <td>5383880046</td>\n",
       "      <td>2021-08-11 07:05:21</td>\n",
       "      <td>S120</td>\n",
       "      <td>T</td>\n",
       "      <td>200</td>\n",
       "      <td>65530457</td>\n",
       "      <td>8</td>\n",
       "      <td>LOSE</td>\n",
       "      <td>8</td>\n",
       "      <td>1</td>\n",
       "      <td>...</td>\n",
       "      <td>11651</td>\n",
       "      <td>0</td>\n",
       "      <td>0</td>\n",
       "      <td>3</td>\n",
       "      <td>3221</td>\n",
       "      <td>0</td>\n",
       "      <td>0</td>\n",
       "      <td>NONE</td>\n",
       "      <td>930</td>\n",
       "      <td>11.16.390.1945</td>\n",
       "    </tr>\n",
       "    <tr>\n",
       "      <th>...</th>\n",
       "      <td>...</td>\n",
       "      <td>...</td>\n",
       "      <td>...</td>\n",
       "      <td>...</td>\n",
       "      <td>...</td>\n",
       "      <td>...</td>\n",
       "      <td>...</td>\n",
       "      <td>...</td>\n",
       "      <td>...</td>\n",
       "      <td>...</td>\n",
       "      <td>...</td>\n",
       "      <td>...</td>\n",
       "      <td>...</td>\n",
       "      <td>...</td>\n",
       "      <td>...</td>\n",
       "      <td>...</td>\n",
       "      <td>...</td>\n",
       "      <td>...</td>\n",
       "      <td>...</td>\n",
       "      <td>...</td>\n",
       "      <td>...</td>\n",
       "    </tr>\n",
       "    <tr>\n",
       "      <th>999897</th>\n",
       "      <td>5384659588</td>\n",
       "      <td>2021-08-11 17:10:49</td>\n",
       "      <td>P40</td>\n",
       "      <td>M</td>\n",
       "      <td>100</td>\n",
       "      <td>53140515</td>\n",
       "      <td>4</td>\n",
       "      <td>WIN</td>\n",
       "      <td>17</td>\n",
       "      <td>9</td>\n",
       "      <td>...</td>\n",
       "      <td>19530</td>\n",
       "      <td>5</td>\n",
       "      <td>25</td>\n",
       "      <td>11</td>\n",
       "      <td>7539</td>\n",
       "      <td>12910</td>\n",
       "      <td>9479</td>\n",
       "      <td>MIDDLE</td>\n",
       "      <td>1806</td>\n",
       "      <td>11.16.390.1945</td>\n",
       "    </tr>\n",
       "    <tr>\n",
       "      <th>999920</th>\n",
       "      <td>5384659612</td>\n",
       "      <td>2021-08-11 17:06:30</td>\n",
       "      <td>S191</td>\n",
       "      <td>J</td>\n",
       "      <td>200</td>\n",
       "      <td>2403460</td>\n",
       "      <td>5</td>\n",
       "      <td>LOSE</td>\n",
       "      <td>12</td>\n",
       "      <td>0</td>\n",
       "      <td>...</td>\n",
       "      <td>26321</td>\n",
       "      <td>0</td>\n",
       "      <td>81</td>\n",
       "      <td>13</td>\n",
       "      <td>11826</td>\n",
       "      <td>7533</td>\n",
       "      <td>0</td>\n",
       "      <td>JUNGLE</td>\n",
       "      <td>1548</td>\n",
       "      <td>11.16.390.1945</td>\n",
       "    </tr>\n",
       "    <tr>\n",
       "      <th>999935</th>\n",
       "      <td>5384659615</td>\n",
       "      <td>2021-08-11 17:12:06</td>\n",
       "      <td>G112</td>\n",
       "      <td>M</td>\n",
       "      <td>100</td>\n",
       "      <td>50060129</td>\n",
       "      <td>7</td>\n",
       "      <td>WIN</td>\n",
       "      <td>17</td>\n",
       "      <td>7</td>\n",
       "      <td>...</td>\n",
       "      <td>23034</td>\n",
       "      <td>8</td>\n",
       "      <td>8</td>\n",
       "      <td>25</td>\n",
       "      <td>13790</td>\n",
       "      <td>8838</td>\n",
       "      <td>2703</td>\n",
       "      <td>MIDDLE</td>\n",
       "      <td>1868</td>\n",
       "      <td>11.16.390.1945</td>\n",
       "    </tr>\n",
       "    <tr>\n",
       "      <th>999946</th>\n",
       "      <td>5384659618</td>\n",
       "      <td>2021-08-11 17:13:59</td>\n",
       "      <td>S322</td>\n",
       "      <td>J</td>\n",
       "      <td>100</td>\n",
       "      <td>85547540</td>\n",
       "      <td>5</td>\n",
       "      <td>LOSE</td>\n",
       "      <td>15</td>\n",
       "      <td>6</td>\n",
       "      <td>...</td>\n",
       "      <td>38494</td>\n",
       "      <td>9</td>\n",
       "      <td>78</td>\n",
       "      <td>14</td>\n",
       "      <td>36546</td>\n",
       "      <td>19721</td>\n",
       "      <td>0</td>\n",
       "      <td>JUNGLE</td>\n",
       "      <td>1958</td>\n",
       "      <td>11.16.390.1945</td>\n",
       "    </tr>\n",
       "    <tr>\n",
       "      <th>999954</th>\n",
       "      <td>5384659622</td>\n",
       "      <td>2021-08-11 17:11:16</td>\n",
       "      <td>G438</td>\n",
       "      <td>M</td>\n",
       "      <td>100</td>\n",
       "      <td>83418423</td>\n",
       "      <td>7</td>\n",
       "      <td>WIN</td>\n",
       "      <td>17</td>\n",
       "      <td>9</td>\n",
       "      <td>...</td>\n",
       "      <td>12988</td>\n",
       "      <td>0</td>\n",
       "      <td>8</td>\n",
       "      <td>25</td>\n",
       "      <td>6521</td>\n",
       "      <td>5189</td>\n",
       "      <td>5070</td>\n",
       "      <td>MIDDLE</td>\n",
       "      <td>1765</td>\n",
       "      <td>11.16.390.1945</td>\n",
       "    </tr>\n",
       "  </tbody>\n",
       "</table>\n",
       "<p>41443 rows × 37 columns</p>\n",
       "</div>"
      ],
      "text/plain": [
       "            gameId           createDate tierRank position  teamId  summonerId  \\\n",
       "14      5383880007  2021-08-11 07:02:38     S352        M     200    33220626   \n",
       "36      5383880023  2021-08-11 07:13:08     G230        T     200    50160666   \n",
       "68      5383880039  2021-08-11 07:25:11     D416        M     200    82943928   \n",
       "71      5383880040  2021-08-11 07:14:33     B471        J     100     3385419   \n",
       "93      5383880046  2021-08-11 07:05:21     S120        T     200    65530457   \n",
       "...            ...                  ...      ...      ...     ...         ...   \n",
       "999897  5384659588  2021-08-11 17:10:49      P40        M     100    53140515   \n",
       "999920  5384659612  2021-08-11 17:06:30     S191        J     200     2403460   \n",
       "999935  5384659615  2021-08-11 17:12:06     G112        M     100    50060129   \n",
       "999946  5384659618  2021-08-11 17:13:59     S322        J     100    85547540   \n",
       "999954  5384659622  2021-08-11 17:11:16     G438        M     100    83418423   \n",
       "\n",
       "        championId result  level  championsKilled  ...  totalDamageTaken  \\\n",
       "14               7   LOSE      9                1  ...             17659   \n",
       "36               8   LOSE     14                2  ...             21044   \n",
       "68               7    WIN     16               12  ...             21044   \n",
       "71               6   LOSE     13                2  ...             18807   \n",
       "93               8   LOSE      8                1  ...             11651   \n",
       "...            ...    ...    ...              ...  ...               ...   \n",
       "999897           4    WIN     17                9  ...             19530   \n",
       "999920           5   LOSE     12                0  ...             26321   \n",
       "999935           7    WIN     17                7  ...             23034   \n",
       "999946           5   LOSE     15                6  ...             38494   \n",
       "999954           7    WIN     17                9  ...             12988   \n",
       "\n",
       "        neutralMinionsKilledEnemyJungle  neutralMinionsKilledTeamJungle  \\\n",
       "14                                    0                               2   \n",
       "36                                    0                               0   \n",
       "68                                    0                               8   \n",
       "71                                    4                              74   \n",
       "93                                    0                               0   \n",
       "...                                 ...                             ...   \n",
       "999897                                5                              25   \n",
       "999920                                0                              81   \n",
       "999935                                8                               8   \n",
       "999946                                9                              78   \n",
       "999954                                0                               8   \n",
       "\n",
       "        visionScore  damageSelfMitigated  damageDealtToObjectives  \\\n",
       "14                9                 5042                        0   \n",
       "36               13                 7630                      101   \n",
       "68               26                15833                     7736   \n",
       "71               28                17689                     7497   \n",
       "93                3                 3221                        0   \n",
       "...             ...                  ...                      ...   \n",
       "999897           11                 7539                    12910   \n",
       "999920           13                11826                     7533   \n",
       "999935           25                13790                     8838   \n",
       "999946           14                36546                    19721   \n",
       "999954           25                 6521                     5189   \n",
       "\n",
       "        damageDealtToTurrets    lane  gameLength         version  \n",
       "14                         0  MIDDLE        1202  11.16.390.1945  \n",
       "36                       101     TOP        1611  11.16.390.1945  \n",
       "68                      1249  MIDDLE        2156  11.16.390.1945  \n",
       "71                         0  JUNGLE        1535  11.16.390.1945  \n",
       "93                         0    NONE         930  11.16.390.1945  \n",
       "...                      ...     ...         ...             ...  \n",
       "999897                  9479  MIDDLE        1806  11.16.390.1945  \n",
       "999920                     0  JUNGLE        1548  11.16.390.1945  \n",
       "999935                  2703  MIDDLE        1868  11.16.390.1945  \n",
       "999946                     0  JUNGLE        1958  11.16.390.1945  \n",
       "999954                  5070  MIDDLE        1765  11.16.390.1945  \n",
       "\n",
       "[41443 rows x 37 columns]"
      ]
     },
     "execution_count": 11,
     "metadata": {},
     "output_type": "execute_result"
    }
   ],
   "source": [
    "data1_10"
   ]
  },
  {
   "cell_type": "code",
   "execution_count": 10,
   "id": "bd99aaef",
   "metadata": {},
   "outputs": [
    {
     "data": {
      "text/plain": [
       "<BarContainer object of 9 artists>"
      ]
     },
     "execution_count": 10,
     "metadata": {},
     "output_type": "execute_result"
    },
    {
     "data": {
      "image/png": "[encoded data removed]",
      "text/plain": [
       "<Figure size 504x288 with 1 Axes>"
      ]
     },
     "metadata": {
      "needs_background": "light"
     },
     "output_type": "display_data"
    }
   ],
   "source": [
    "fig, ax = plt.subplots(figsize = (7, 4))\n",
    "ax.barh(group1_10['championId'], group1_10['totalDamageDealtToChampions'])"
   ]
  },
  {
   "cell_type": "code",
   "execution_count": 12,
   "id": "0efb8c3b",
   "metadata": {},
   "outputs": [],
   "source": [
    "# champion index 불러오기\n",
    "import requests\n",
    "champ_ver = requests.get('https://ddragon.leagueoflegends.com/realms/na.json').json()['n']['champion']\n",
    "championJsonURL = 'http://ddragon.leagueoflegends.com/cdn/'+champ_ver+'/data/en_US/champion.json'\n",
    "request = requests.get(championJsonURL)\n",
    "champion_data=request.json()\n",
    "champion_data.keys()\n",
    "champion_dict = {}\n",
    "for c_name in champion_data['data'].keys() :\n",
    "    champion_dict[int(champion_data['data'][c_name]['key'])]=c_name\n",
    "champion_dict.keys()\n",
    "champion = pd.DataFrame.from_dict(champion_dict, orient = 'index', columns = ['champion'])"
   ]
  },
  {
   "cell_type": "code",
   "execution_count": 13,
   "id": "763403d6",
   "metadata": {},
   "outputs": [
    {
     "data": {
      "text/html": [
       "<div>\n",
       "<style scoped>\n",
       "    .dataframe tbody tr th:only-of-type {\n",
       "        vertical-align: middle;\n",
       "    }\n",
       "\n",
       "    .dataframe tbody tr th {\n",
       "        vertical-align: top;\n",
       "    }\n",
       "\n",
       "    .dataframe thead th {\n",
       "        text-align: right;\n",
       "    }\n",
       "</style>\n",
       "<table border=\"1\" class=\"dataframe\">\n",
       "  <thead>\n",
       "    <tr style=\"text-align: right;\">\n",
       "      <th></th>\n",
       "      <th>champion</th>\n",
       "    </tr>\n",
       "  </thead>\n",
       "  <tbody>\n",
       "    <tr>\n",
       "      <th>266</th>\n",
       "      <td>Aatrox</td>\n",
       "    </tr>\n",
       "    <tr>\n",
       "      <th>103</th>\n",
       "      <td>Ahri</td>\n",
       "    </tr>\n",
       "    <tr>\n",
       "      <th>84</th>\n",
       "      <td>Akali</td>\n",
       "    </tr>\n",
       "    <tr>\n",
       "      <th>166</th>\n",
       "      <td>Akshan</td>\n",
       "    </tr>\n",
       "    <tr>\n",
       "      <th>12</th>\n",
       "      <td>Alistar</td>\n",
       "    </tr>\n",
       "    <tr>\n",
       "      <th>...</th>\n",
       "      <td>...</td>\n",
       "    </tr>\n",
       "    <tr>\n",
       "      <th>238</th>\n",
       "      <td>Zed</td>\n",
       "    </tr>\n",
       "    <tr>\n",
       "      <th>115</th>\n",
       "      <td>Ziggs</td>\n",
       "    </tr>\n",
       "    <tr>\n",
       "      <th>26</th>\n",
       "      <td>Zilean</td>\n",
       "    </tr>\n",
       "    <tr>\n",
       "      <th>142</th>\n",
       "      <td>Zoe</td>\n",
       "    </tr>\n",
       "    <tr>\n",
       "      <th>143</th>\n",
       "      <td>Zyra</td>\n",
       "    </tr>\n",
       "  </tbody>\n",
       "</table>\n",
       "<p>157 rows × 1 columns</p>\n",
       "</div>"
      ],
      "text/plain": [
       "    champion\n",
       "266   Aatrox\n",
       "103     Ahri\n",
       "84     Akali\n",
       "166   Akshan\n",
       "12   Alistar\n",
       "..       ...\n",
       "238      Zed\n",
       "115    Ziggs\n",
       "26    Zilean\n",
       "142      Zoe\n",
       "143     Zyra\n",
       "\n",
       "[157 rows x 1 columns]"
      ]
     },
     "execution_count": 13,
     "metadata": {},
     "output_type": "execute_result"
    }
   ],
   "source": [
    "champion"
   ]
  },
  {
   "cell_type": "code",
   "execution_count": 14,
   "id": "09854e31",
   "metadata": {},
   "outputs": [],
   "source": [
    "group1_10 = pd.merge(group1_10, champion,\n",
    "                        left_on = 'championId', right_index = True)"
   ]
  },
  {
   "cell_type": "code",
   "execution_count": 16,
   "id": "a8b0f361",
   "metadata": {},
   "outputs": [
    {
     "data": {
      "text/plain": [
       "<BarContainer object of 9 artists>"
      ]
     },
     "execution_count": 16,
     "metadata": {},
     "output_type": "execute_result"
    },
    {
     "data": {
      "image/png": "[encoded data removed]",
      "text/plain": [
       "<Figure size 504x288 with 1 Axes>"
      ]
     },
     "metadata": {
      "needs_background": "light"
     },
     "output_type": "display_data"
    }
   ],
   "source": [
    "# y축 이름 변경\n",
    "# 그래프를 이 코드로 그리는 것을 가장 권장\n",
    "fig, ax = plt.subplots(figsize = (7, 4))\n",
    "ax.barh(group1_10['champion'], group1_10['totalDamageDealtToChampions'])"
   ]
  },
  {
   "cell_type": "code",
   "execution_count": 21,
   "id": "47bf4641",
   "metadata": {},
   "outputs": [
    {
     "data": {
      "text/plain": [
       "<AxesSubplot:>"
      ]
     },
     "execution_count": 21,
     "metadata": {},
     "output_type": "execute_result"
    },
    {
     "data": {
      "image/png": "[encoded data removed]",
      "text/plain": [
       "<Figure size 432x288 with 1 Axes>"
      ]
     },
     "metadata": {
      "needs_background": "light"
     },
     "output_type": "display_data"
    }
   ],
   "source": [
    "# dataframe에서 바로 그리기\n",
    "group1_10['totalDamageDealtToChampions'].plot(kind = 'barh')"
   ]
  },
  {
   "cell_type": "code",
   "execution_count": 22,
   "id": "9c507656",
   "metadata": {},
   "outputs": [
    {
     "data": {
      "text/plain": [
       "<AxesSubplot:ylabel='champion'>"
      ]
     },
     "execution_count": 22,
     "metadata": {},
     "output_type": "execute_result"
    },
    {
     "data": {
      "image/png": "[encoded data removed]",
      "text/plain": [
       "<Figure size 432x288 with 1 Axes>"
      ]
     },
     "metadata": {
      "needs_background": "light"
     },
     "output_type": "display_data"
    }
   ],
   "source": [
    "# 인덱스 변경\n",
    "group1_10.index = group1_10.champion\n",
    "group1_10['totalDamageDealtToChampions'].plot(kind = 'barh')"
   ]
  },
  {
   "cell_type": "code",
   "execution_count": 24,
   "id": "c50d191e",
   "metadata": {},
   "outputs": [
    {
     "data": {
      "text/plain": [
       "<BarContainer object of 9 artists>"
      ]
     },
     "execution_count": 24,
     "metadata": {},
     "output_type": "execute_result"
    },
    {
     "data": {
      "image/png": "[encoded data removed]",
      "text/plain": [
       "<Figure size 504x288 with 1 Axes>"
      ]
     },
     "metadata": {
      "needs_background": "light"
     },
     "output_type": "display_data"
    }
   ],
   "source": [
    "# 색상 변경(기본 설정)\n",
    "sns.set_palette('bright')\n",
    "fig, ax = plt.subplots(figsize = (7,4))\n",
    "ax.barh(group1_10['champion'], group1_10['totalDamageDealtToChampions'])"
   ]
  },
  {
   "cell_type": "code",
   "execution_count": 26,
   "id": "3e8033b1",
   "metadata": {},
   "outputs": [
    {
     "data": {
      "text/plain": [
       "<BarContainer object of 9 artists>"
      ]
     },
     "execution_count": 26,
     "metadata": {},
     "output_type": "execute_result"
    },
    {
     "data": {
      "image/png": "[encoded data removed]",
      "text/plain": [
       "<Figure size 504x288 with 1 Axes>"
      ]
     },
     "metadata": {
      "needs_background": "light"
     },
     "output_type": "display_data"
    }
   ],
   "source": [
    "sns.set_palette('bright')\n",
    "fig, ax = plt.subplots(figsize = (7,4))\n",
    "ax.barh(group1_10['champion'], group1_10['totalDamageDealtToChampions'], color = 'red')"
   ]
  },
  {
   "cell_type": "code",
   "execution_count": 27,
   "id": "fa0821fe",
   "metadata": {},
   "outputs": [
    {
     "data": {
      "text/plain": [
       "<AxesSubplot:xlabel='totalDamageDealtToChampions', ylabel='champion'>"
      ]
     },
     "execution_count": 27,
     "metadata": {},
     "output_type": "execute_result"
    },
    {
     "data": {
      "image/png": "[encoded data removed]",
      "text/plain": [
       "<Figure size 504x288 with 1 Axes>"
      ]
     },
     "metadata": {
      "needs_background": "light"
     },
     "output_type": "display_data"
    }
   ],
   "source": [
    "# seaborn\n",
    "fig, ax = plt.subplots(figsize = (7,4))\n",
    "sns.barplot(data = group1_10, x = 'totalDamageDealtToChampions', y = 'champion')"
   ]
  },
  {
   "cell_type": "code",
   "execution_count": 28,
   "id": "400e97cb",
   "metadata": {},
   "outputs": [
    {
     "data": {
      "text/plain": [
       "Text(0.5, 1.0, 'Avg Champion Damage')"
      ]
     },
     "execution_count": 28,
     "metadata": {},
     "output_type": "execute_result"
    },
    {
     "data": {
      "image/png": "[encoded data removed]",
      "text/plain": [
       "<Figure size 504x288 with 1 Axes>"
      ]
     },
     "metadata": {
      "needs_background": "light"
     },
     "output_type": "display_data"
    }
   ],
   "source": [
    "# xlabel, ylabel, title 변경\n",
    "fig, ax = plt.subplots(figsize=(7,4))\n",
    "sns.barplot(data = group1_10, x = 'totalDamageDealtToChampions', y = 'champion')\n",
    "\n",
    "ax.set_xlabel('Avg_damage')\n",
    "ax.set_ylabel('Champion Name')\n",
    "ax.set_title('Avg Champion Damage')"
   ]
  },
  {
   "cell_type": "code",
   "execution_count": 32,
   "id": "86c87c72",
   "metadata": {},
   "outputs": [
    {
     "data": {
      "text/plain": [
       "Text(0.5, 1.0, 'Avg Champion Damage')"
      ]
     },
     "execution_count": 32,
     "metadata": {},
     "output_type": "execute_result"
    },
    {
     "data": {
      "image/png": "[encoded data removed]",
      "text/plain": [
       "<Figure size 504x288 with 1 Axes>"
      ]
     },
     "metadata": {
      "needs_background": "light"
     },
     "output_type": "display_data"
    }
   ],
   "source": [
    "#font 변경\n",
    "font_label = {\n",
    "    'color' : 'blue',\n",
    "    'weight' : 'bold'\n",
    "}\n",
    "\n",
    "font_title = {\n",
    "    'family' : 'serif',\n",
    "    'size' : 20,\n",
    "    'color' : 'brown',\n",
    "    'weight' : 'bold',\n",
    "    'verticalalignment' : 'baseline',\n",
    "    'horizontalalignment' : 'center'\n",
    "}\n",
    "\n",
    "fig, ax = plt.subplots(figsize=(7,4))\n",
    "sns.barplot(data = group1_10, x = 'totalDamageDealtToChampions', y = 'champion')\n",
    "\n",
    "ax.set_xlabel('Avg_damage', fontdict = font_label, labelpad = 20)\n",
    "ax.set_ylabel('Champion Name', color = 'blue', labelpad = 100)\n",
    "ax.set_title('Avg Champion Damage', fontdict = font_title, pad = 12)"
   ]
  },
  {
   "cell_type": "code",
   "execution_count": 33,
   "id": "c445496c",
   "metadata": {},
   "outputs": [
    {
     "data": {
      "text/plain": [
       "Text(0.5, 1.0, 'Avg Champion Damage')"
      ]
     },
     "execution_count": 33,
     "metadata": {},
     "output_type": "execute_result"
    },
    {
     "data": {
      "image/png": "[encoded data removed]",
      "text/plain": [
       "<Figure size 504x288 with 1 Axes>"
      ]
     },
     "metadata": {
      "needs_background": "light"
     },
     "output_type": "display_data"
    }
   ],
   "source": [
    "font_label = {\n",
    "    'color' : 'blue',\n",
    "    'weight' : 'bold'\n",
    "}\n",
    "\n",
    "font_title = {\n",
    "    'family' : 'serif',\n",
    "    'size' : 20,\n",
    "    'color' : 'brown',\n",
    "    'weight' : 'bold',\n",
    "    'verticalalignment' : 'baseline',\n",
    "    'horizontalalignment' : 'center'\n",
    "}\n",
    "\n",
    "fig, ax = plt.subplots(figsize=(7,4))\n",
    "sns.barplot(data = group1_10, x = 'totalDamageDealtToChampions', y = 'champion')\n",
    "ax.set_xlim(10000, 20000)\n",
    "\n",
    "damage_mean = group1_10['totalDamageDealtToChampions'].mean()\n",
    "ax.axvline(damage_mean, ls = '-', lw = 3, color = 'green')\n",
    "arrowprops = {\n",
    "    'arrowstyle' : '->'\n",
    "}\n",
    "\n",
    "ax.annotate(\"average\", (damage_mean, 2.5),\n",
    "           xytext = (17000, 2.5), color='green',\n",
    "           fontfamily = 'serif', fontstyle = 'italic',\n",
    "           fontsize = 15, arrowprops = arrowprops)\n",
    "\n",
    "ax.set_xlabel('Avg_damage', fontdict = font_label, labelpad = 20)\n",
    "ax.set_ylabel('Champion Name', color = 'blue', labelpad = 100)\n",
    "ax.set_title('Avg Champion Damage', fontdict = font_title, pad = 12)"
   ]
  },
  {
   "cell_type": "code",
   "execution_count": 34,
   "id": "7549948a",
   "metadata": {},
   "outputs": [],
   "source": [
    "group_data = data[data['gameLength'] > 1200].groupby(\n",
    "    ['position', 'championId'], as_index = False).mean()"
   ]
  },
  {
   "cell_type": "code",
   "execution_count": 35,
   "id": "965cdc5b",
   "metadata": {},
   "outputs": [
    {
     "data": {
      "text/plain": [
       "<AxesSubplot:xlabel='position', ylabel='totalDamageDealtToChampions'>"
      ]
     },
     "execution_count": 35,
     "metadata": {},
     "output_type": "execute_result"
    },
    {
     "data": {
      "image/png": "[encoded data removed]",
      "text/plain": [
       "<Figure size 432x288 with 1 Axes>"
      ]
     },
     "metadata": {
      "needs_background": "light"
     },
     "output_type": "display_data"
    }
   ],
   "source": [
    "sns.boxplot(y = data['totalDamageDealtToChampions'], x = data['position'])"
   ]
  },
  {
   "cell_type": "code",
   "execution_count": 36,
   "id": "6c4d88ef",
   "metadata": {},
   "outputs": [
    {
     "data": {
      "text/plain": [
       "<AxesSubplot:xlabel='position', ylabel='totalDamageDealtToChampions'>"
      ]
     },
     "execution_count": 36,
     "metadata": {},
     "output_type": "execute_result"
    },
    {
     "data": {
      "image/png": "[encoded data removed]",
      "text/plain": [
       "<Figure size 432x288 with 1 Axes>"
      ]
     },
     "metadata": {
      "needs_background": "light"
     },
     "output_type": "display_data"
    }
   ],
   "source": [
    "sns.violinplot(y = data['totalDamageDealtToChampions'],\n",
    "              x = data['position'])"
   ]
  },
  {
   "cell_type": "code",
   "execution_count": 37,
   "id": "a2f8f4c9",
   "metadata": {},
   "outputs": [
    {
     "data": {
      "text/plain": [
       "<seaborn.axisgrid.FacetGrid at 0x1ab48e4c4f0>"
      ]
     },
     "execution_count": 37,
     "metadata": {},
     "output_type": "execute_result"
    },
    {
     "data": {
      "image/png": "[encoded data removed]",
      "text/plain": [
       "<Figure size 360x360 with 1 Axes>"
      ]
     },
     "metadata": {
      "needs_background": "light"
     },
     "output_type": "display_data"
    }
   ],
   "source": [
    "sns.displot(data[data['totalDamageDealtToChampions'] < 60000]\n",
    "           ['totalDamageDealtToChampions'])"
   ]
  },
  {
   "cell_type": "code",
   "execution_count": 38,
   "id": "2ce2e3a6",
   "metadata": {},
   "outputs": [
    {
     "data": {
      "text/plain": [
       "<seaborn.axisgrid.FacetGrid at 0x1ab48b231f0>"
      ]
     },
     "execution_count": 38,
     "metadata": {},
     "output_type": "execute_result"
    },
    {
     "data": {
      "image/png": "[encoded data removed]",
      "text/plain": [
       "<Figure size 407.5x360 with 1 Axes>"
      ]
     },
     "metadata": {
      "needs_background": "light"
     },
     "output_type": "display_data"
    }
   ],
   "source": [
    "sns.displot(group_data, x = 'totalDamageDealtToChampions',\n",
    "           hue = 'position')"
   ]
  },
  {
   "cell_type": "code",
   "execution_count": 39,
   "id": "7e4f2f28",
   "metadata": {},
   "outputs": [
    {
     "data": {
      "text/plain": [
       "<seaborn.axisgrid.FacetGrid at 0x1ab00606f40>"
      ]
     },
     "execution_count": 39,
     "metadata": {},
     "output_type": "execute_result"
    },
    {
     "data": {
      "image/png": "[encoded data removed]",
      "text/plain": [
       "<Figure size 576x288 with 1 Axes>"
      ]
     },
     "metadata": {
      "needs_background": "light"
     },
     "output_type": "display_data"
    }
   ],
   "source": [
    "sns.displot(group_data['totalDamageDealtToChampions'],\n",
    "           height = 4, aspect = 2)"
   ]
  },
  {
   "cell_type": "code",
   "execution_count": 40,
   "id": "2b804399",
   "metadata": {},
   "outputs": [
    {
     "data": {
      "text/plain": [
       "<seaborn.axisgrid.FacetGrid at 0x1ab004311f0>"
      ]
     },
     "execution_count": 40,
     "metadata": {},
     "output_type": "execute_result"
    },
    {
     "data": {
      "image/png": "[encoded data removed]",
      "text/plain": [
       "<Figure size 623.5x288 with 1 Axes>"
      ]
     },
     "metadata": {
      "needs_background": "light"
     },
     "output_type": "display_data"
    }
   ],
   "source": [
    "# 원딜과 서폿 딜량 비교\n",
    "sns.displot(group_data[group_data['position'].isin(['A', 'S'])],\n",
    "           x = 'totalDamageDealtToChampions', hue = 'position', \n",
    "           multiple = 'dodge', height = 4, aspect = 2)"
   ]
  },
  {
   "cell_type": "code",
   "execution_count": 41,
   "id": "96f6e1cc",
   "metadata": {},
   "outputs": [],
   "source": [
    "champ_stats = pd.read_csv(\"champ_stats.csv\")"
   ]
  },
  {
   "cell_type": "code",
   "execution_count": 42,
   "id": "24404195",
   "metadata": {},
   "outputs": [
    {
     "data": {
      "text/html": [
       "<div>\n",
       "<style scoped>\n",
       "    .dataframe tbody tr th:only-of-type {\n",
       "        vertical-align: middle;\n",
       "    }\n",
       "\n",
       "    .dataframe tbody tr th {\n",
       "        vertical-align: top;\n",
       "    }\n",
       "\n",
       "    .dataframe thead th {\n",
       "        text-align: right;\n",
       "    }\n",
       "</style>\n",
       "<table border=\"1\" class=\"dataframe\">\n",
       "  <thead>\n",
       "    <tr style=\"text-align: right;\">\n",
       "      <th></th>\n",
       "      <th>championId</th>\n",
       "      <th>championName</th>\n",
       "      <th>versionIndex</th>\n",
       "      <th>version</th>\n",
       "      <th>hp</th>\n",
       "      <th>hpperlevel</th>\n",
       "      <th>mp</th>\n",
       "      <th>mpperlevel</th>\n",
       "      <th>movespeed</th>\n",
       "      <th>armor</th>\n",
       "      <th>...</th>\n",
       "      <th>attackspeed</th>\n",
       "      <th>hp_18</th>\n",
       "      <th>mp_18</th>\n",
       "      <th>armor_18</th>\n",
       "      <th>spellblock_18</th>\n",
       "      <th>hpregen_18</th>\n",
       "      <th>mpregen_18</th>\n",
       "      <th>crit_18</th>\n",
       "      <th>attackdamage_18</th>\n",
       "      <th>attackspeed_18</th>\n",
       "    </tr>\n",
       "  </thead>\n",
       "  <tbody>\n",
       "    <tr>\n",
       "      <th>0</th>\n",
       "      <td>1</td>\n",
       "      <td>Annie</td>\n",
       "      <td>11.17</td>\n",
       "      <td>11.17.394.4489</td>\n",
       "      <td>524.0</td>\n",
       "      <td>88</td>\n",
       "      <td>418.0</td>\n",
       "      <td>25.0</td>\n",
       "      <td>335</td>\n",
       "      <td>19</td>\n",
       "      <td>...</td>\n",
       "      <td>0.579</td>\n",
       "      <td>2020.0</td>\n",
       "      <td>843.0</td>\n",
       "      <td>87.00</td>\n",
       "      <td>38.50</td>\n",
       "      <td>14.85</td>\n",
       "      <td>21.60</td>\n",
       "      <td>0</td>\n",
       "      <td>94.71</td>\n",
       "      <td>0.7129</td>\n",
       "    </tr>\n",
       "    <tr>\n",
       "      <th>1</th>\n",
       "      <td>2</td>\n",
       "      <td>Olaf</td>\n",
       "      <td>11.17</td>\n",
       "      <td>11.17.394.4489</td>\n",
       "      <td>575.0</td>\n",
       "      <td>100</td>\n",
       "      <td>316.0</td>\n",
       "      <td>42.0</td>\n",
       "      <td>350</td>\n",
       "      <td>35</td>\n",
       "      <td>...</td>\n",
       "      <td>0.694</td>\n",
       "      <td>2275.0</td>\n",
       "      <td>1030.0</td>\n",
       "      <td>86.00</td>\n",
       "      <td>53.25</td>\n",
       "      <td>23.80</td>\n",
       "      <td>17.70</td>\n",
       "      <td>0</td>\n",
       "      <td>127.50</td>\n",
       "      <td>1.0125</td>\n",
       "    </tr>\n",
       "    <tr>\n",
       "      <th>2</th>\n",
       "      <td>3</td>\n",
       "      <td>Galio</td>\n",
       "      <td>11.17</td>\n",
       "      <td>11.17.394.4489</td>\n",
       "      <td>562.0</td>\n",
       "      <td>112</td>\n",
       "      <td>500.0</td>\n",
       "      <td>40.0</td>\n",
       "      <td>335</td>\n",
       "      <td>24</td>\n",
       "      <td>...</td>\n",
       "      <td>0.625</td>\n",
       "      <td>2466.0</td>\n",
       "      <td>1180.0</td>\n",
       "      <td>83.50</td>\n",
       "      <td>53.25</td>\n",
       "      <td>21.60</td>\n",
       "      <td>21.40</td>\n",
       "      <td>0</td>\n",
       "      <td>118.50</td>\n",
       "      <td>0.7844</td>\n",
       "    </tr>\n",
       "    <tr>\n",
       "      <th>3</th>\n",
       "      <td>4</td>\n",
       "      <td>TwistedFate</td>\n",
       "      <td>11.17</td>\n",
       "      <td>11.17.394.4489</td>\n",
       "      <td>534.0</td>\n",
       "      <td>94</td>\n",
       "      <td>333.0</td>\n",
       "      <td>39.0</td>\n",
       "      <td>330</td>\n",
       "      <td>21</td>\n",
       "      <td>...</td>\n",
       "      <td>0.651</td>\n",
       "      <td>2132.0</td>\n",
       "      <td>996.0</td>\n",
       "      <td>74.55</td>\n",
       "      <td>38.50</td>\n",
       "      <td>15.70</td>\n",
       "      <td>21.60</td>\n",
       "      <td>0</td>\n",
       "      <td>108.10</td>\n",
       "      <td>1.0074</td>\n",
       "    </tr>\n",
       "    <tr>\n",
       "      <th>4</th>\n",
       "      <td>5</td>\n",
       "      <td>XinZhao</td>\n",
       "      <td>11.17</td>\n",
       "      <td>11.17.394.4489</td>\n",
       "      <td>570.0</td>\n",
       "      <td>92</td>\n",
       "      <td>274.0</td>\n",
       "      <td>55.0</td>\n",
       "      <td>345</td>\n",
       "      <td>35</td>\n",
       "      <td>...</td>\n",
       "      <td>0.645</td>\n",
       "      <td>2134.0</td>\n",
       "      <td>1209.0</td>\n",
       "      <td>94.50</td>\n",
       "      <td>53.25</td>\n",
       "      <td>19.90</td>\n",
       "      <td>14.91</td>\n",
       "      <td>0</td>\n",
       "      <td>114.00</td>\n",
       "      <td>1.0288</td>\n",
       "    </tr>\n",
       "    <tr>\n",
       "      <th>...</th>\n",
       "      <td>...</td>\n",
       "      <td>...</td>\n",
       "      <td>...</td>\n",
       "      <td>...</td>\n",
       "      <td>...</td>\n",
       "      <td>...</td>\n",
       "      <td>...</td>\n",
       "      <td>...</td>\n",
       "      <td>...</td>\n",
       "      <td>...</td>\n",
       "      <td>...</td>\n",
       "      <td>...</td>\n",
       "      <td>...</td>\n",
       "      <td>...</td>\n",
       "      <td>...</td>\n",
       "      <td>...</td>\n",
       "      <td>...</td>\n",
       "      <td>...</td>\n",
       "      <td>...</td>\n",
       "      <td>...</td>\n",
       "      <td>...</td>\n",
       "    </tr>\n",
       "    <tr>\n",
       "      <th>151</th>\n",
       "      <td>555</td>\n",
       "      <td>Pyke</td>\n",
       "      <td>11.17</td>\n",
       "      <td>11.17.394.4489</td>\n",
       "      <td>600.0</td>\n",
       "      <td>90</td>\n",
       "      <td>415.0</td>\n",
       "      <td>50.0</td>\n",
       "      <td>330</td>\n",
       "      <td>45</td>\n",
       "      <td>...</td>\n",
       "      <td>0.667</td>\n",
       "      <td>2130.0</td>\n",
       "      <td>1265.0</td>\n",
       "      <td>104.50</td>\n",
       "      <td>53.25</td>\n",
       "      <td>15.50</td>\n",
       "      <td>25.00</td>\n",
       "      <td>0</td>\n",
       "      <td>96.00</td>\n",
       "      <td>0.9505</td>\n",
       "    </tr>\n",
       "    <tr>\n",
       "      <th>152</th>\n",
       "      <td>777</td>\n",
       "      <td>Yone</td>\n",
       "      <td>11.17</td>\n",
       "      <td>11.17.394.4489</td>\n",
       "      <td>550.0</td>\n",
       "      <td>85</td>\n",
       "      <td>500.0</td>\n",
       "      <td>0.0</td>\n",
       "      <td>345</td>\n",
       "      <td>28</td>\n",
       "      <td>...</td>\n",
       "      <td>0.625</td>\n",
       "      <td>1995.0</td>\n",
       "      <td>500.0</td>\n",
       "      <td>85.80</td>\n",
       "      <td>53.25</td>\n",
       "      <td>20.25</td>\n",
       "      <td>0.00</td>\n",
       "      <td>0</td>\n",
       "      <td>94.00</td>\n",
       "      <td>0.9969</td>\n",
       "    </tr>\n",
       "    <tr>\n",
       "      <th>153</th>\n",
       "      <td>875</td>\n",
       "      <td>Sett</td>\n",
       "      <td>11.17</td>\n",
       "      <td>11.17.394.4489</td>\n",
       "      <td>600.0</td>\n",
       "      <td>93</td>\n",
       "      <td>0.0</td>\n",
       "      <td>0.0</td>\n",
       "      <td>340</td>\n",
       "      <td>33</td>\n",
       "      <td>...</td>\n",
       "      <td>0.625</td>\n",
       "      <td>2181.0</td>\n",
       "      <td>0.0</td>\n",
       "      <td>101.00</td>\n",
       "      <td>53.25</td>\n",
       "      <td>15.50</td>\n",
       "      <td>0.00</td>\n",
       "      <td>0</td>\n",
       "      <td>128.00</td>\n",
       "      <td>0.8109</td>\n",
       "    </tr>\n",
       "    <tr>\n",
       "      <th>154</th>\n",
       "      <td>876</td>\n",
       "      <td>Lillia</td>\n",
       "      <td>11.17</td>\n",
       "      <td>11.17.394.4489</td>\n",
       "      <td>580.0</td>\n",
       "      <td>90</td>\n",
       "      <td>410.0</td>\n",
       "      <td>50.0</td>\n",
       "      <td>330</td>\n",
       "      <td>22</td>\n",
       "      <td>...</td>\n",
       "      <td>0.625</td>\n",
       "      <td>2110.0</td>\n",
       "      <td>1260.0</td>\n",
       "      <td>90.00</td>\n",
       "      <td>44.75</td>\n",
       "      <td>20.25</td>\n",
       "      <td>27.65</td>\n",
       "      <td>0</td>\n",
       "      <td>113.70</td>\n",
       "      <td>0.9119</td>\n",
       "    </tr>\n",
       "    <tr>\n",
       "      <th>155</th>\n",
       "      <td>887</td>\n",
       "      <td>Gwen</td>\n",
       "      <td>11.17</td>\n",
       "      <td>11.17.394.4489</td>\n",
       "      <td>550.0</td>\n",
       "      <td>90</td>\n",
       "      <td>330.0</td>\n",
       "      <td>40.0</td>\n",
       "      <td>340</td>\n",
       "      <td>39</td>\n",
       "      <td>...</td>\n",
       "      <td>0.690</td>\n",
       "      <td>2080.0</td>\n",
       "      <td>1010.0</td>\n",
       "      <td>107.00</td>\n",
       "      <td>53.25</td>\n",
       "      <td>16.35</td>\n",
       "      <td>19.40</td>\n",
       "      <td>0</td>\n",
       "      <td>114.00</td>\n",
       "      <td>0.9539</td>\n",
       "    </tr>\n",
       "  </tbody>\n",
       "</table>\n",
       "<p>156 rows × 33 columns</p>\n",
       "</div>"
      ],
      "text/plain": [
       "     championId championName  versionIndex         version     hp  hpperlevel  \\\n",
       "0             1        Annie         11.17  11.17.394.4489  524.0          88   \n",
       "1             2         Olaf         11.17  11.17.394.4489  575.0         100   \n",
       "2             3        Galio         11.17  11.17.394.4489  562.0         112   \n",
       "3             4  TwistedFate         11.17  11.17.394.4489  534.0          94   \n",
       "4             5      XinZhao         11.17  11.17.394.4489  570.0          92   \n",
       "..          ...          ...           ...             ...    ...         ...   \n",
       "151         555         Pyke         11.17  11.17.394.4489  600.0          90   \n",
       "152         777         Yone         11.17  11.17.394.4489  550.0          85   \n",
       "153         875         Sett         11.17  11.17.394.4489  600.0          93   \n",
       "154         876       Lillia         11.17  11.17.394.4489  580.0          90   \n",
       "155         887         Gwen         11.17  11.17.394.4489  550.0          90   \n",
       "\n",
       "        mp  mpperlevel  movespeed  armor  ...  attackspeed   hp_18   mp_18  \\\n",
       "0    418.0        25.0        335     19  ...        0.579  2020.0   843.0   \n",
       "1    316.0        42.0        350     35  ...        0.694  2275.0  1030.0   \n",
       "2    500.0        40.0        335     24  ...        0.625  2466.0  1180.0   \n",
       "3    333.0        39.0        330     21  ...        0.651  2132.0   996.0   \n",
       "4    274.0        55.0        345     35  ...        0.645  2134.0  1209.0   \n",
       "..     ...         ...        ...    ...  ...          ...     ...     ...   \n",
       "151  415.0        50.0        330     45  ...        0.667  2130.0  1265.0   \n",
       "152  500.0         0.0        345     28  ...        0.625  1995.0   500.0   \n",
       "153    0.0         0.0        340     33  ...        0.625  2181.0     0.0   \n",
       "154  410.0        50.0        330     22  ...        0.625  2110.0  1260.0   \n",
       "155  330.0        40.0        340     39  ...        0.690  2080.0  1010.0   \n",
       "\n",
       "     armor_18  spellblock_18  hpregen_18  mpregen_18  crit_18  \\\n",
       "0       87.00          38.50       14.85       21.60        0   \n",
       "1       86.00          53.25       23.80       17.70        0   \n",
       "2       83.50          53.25       21.60       21.40        0   \n",
       "3       74.55          38.50       15.70       21.60        0   \n",
       "4       94.50          53.25       19.90       14.91        0   \n",
       "..        ...            ...         ...         ...      ...   \n",
       "151    104.50          53.25       15.50       25.00        0   \n",
       "152     85.80          53.25       20.25        0.00        0   \n",
       "153    101.00          53.25       15.50        0.00        0   \n",
       "154     90.00          44.75       20.25       27.65        0   \n",
       "155    107.00          53.25       16.35       19.40        0   \n",
       "\n",
       "     attackdamage_18  attackspeed_18  \n",
       "0              94.71          0.7129  \n",
       "1             127.50          1.0125  \n",
       "2             118.50          0.7844  \n",
       "3             108.10          1.0074  \n",
       "4             114.00          1.0288  \n",
       "..               ...             ...  \n",
       "151            96.00          0.9505  \n",
       "152            94.00          0.9969  \n",
       "153           128.00          0.8109  \n",
       "154           113.70          0.9119  \n",
       "155           114.00          0.9539  \n",
       "\n",
       "[156 rows x 33 columns]"
      ]
     },
     "execution_count": 42,
     "metadata": {},
     "output_type": "execute_result"
    }
   ],
   "source": [
    "# 그웬까지 챔피언 데이터 있음\n",
    "champ_stats"
   ]
  },
  {
   "cell_type": "code",
   "execution_count": 43,
   "id": "94b8fc8d",
   "metadata": {},
   "outputs": [
    {
     "data": {
      "text/plain": [
       "<AxesSubplot:xlabel='hp', ylabel='hp_18'>"
      ]
     },
     "execution_count": 43,
     "metadata": {},
     "output_type": "execute_result"
    },
    {
     "data": {
      "image/png": "[encoded data removed]",
      "text/plain": [
       "<Figure size 432x288 with 1 Axes>"
      ]
     },
     "metadata": {
      "needs_background": "light"
     },
     "output_type": "display_data"
    }
   ],
   "source": [
    "# 1레벨과 18레벨 체력 비교\n",
    "sns.scatterplot(data = champ_stats, x = 'hp', y = 'hp_18')"
   ]
  },
  {
   "cell_type": "code",
   "execution_count": null,
   "id": "955f3cd1",
   "metadata": {},
   "outputs": [],
   "source": []
  }
 ],
 "metadata": {
  "kernelspec": {
   "display_name": "Python 3",
   "language": "python",
   "name": "python3"
  },
  "language_info": {
   "codemirror_mode": {
    "name": "ipython",
    "version": 3
   },
   "file_extension": ".py",
   "mimetype": "text/x-python",
   "name": "python",
   "nbconvert_exporter": "python",
   "pygments_lexer": "ipython3",
   "version": "3.8.8"
  }
 },
 "nbformat": 4,
 "nbformat_minor": 5
}
